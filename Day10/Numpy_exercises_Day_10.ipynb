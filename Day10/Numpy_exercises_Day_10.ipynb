{
  "nbformat": 4,
  "nbformat_minor": 0,
  "metadata": {
    "kernelspec": {
      "display_name": "Python 3",
      "language": "python",
      "name": "python3"
    },
    "language_info": {
      "codemirror_mode": {
        "name": "ipython",
        "version": 3
      },
      "file_extension": ".py",
      "mimetype": "text/x-python",
      "name": "python",
      "nbconvert_exporter": "python",
      "pygments_lexer": "ipython3",
      "version": "3.7.4"
    },
    "colab": {
      "name": "Numpy_exercises Day 10.ipynb",
      "provenance": [],
      "include_colab_link": true
    }
  },
  "cells": [
    {
      "cell_type": "markdown",
      "metadata": {
        "id": "view-in-github",
        "colab_type": "text"
      },
      "source": [
        "<a href=\"https://colab.research.google.com/github/bhargav23/JNTU_PYTHON_Assignments/blob/master/Numpy_exercises_Day_10.ipynb\" target=\"_parent\"><img src=\"https://colab.research.google.com/assets/colab-badge.svg\" alt=\"Open In Colab\"/></a>"
      ]
    },
    {
      "cell_type": "markdown",
      "metadata": {
        "id": "kOsbx0RVhvWW",
        "colab_type": "text"
      },
      "source": [
        "# Assignment questions for Numpy"
      ]
    },
    {
      "cell_type": "markdown",
      "metadata": {
        "id": "ypYU12lehvWX",
        "colab_type": "text"
      },
      "source": [
        "#### 1. Import the numpy package under the name `np` (★☆☆)"
      ]
    },
    {
      "cell_type": "code",
      "metadata": {
        "id": "cD03XTw4hvWY",
        "colab_type": "code",
        "colab": {}
      },
      "source": [
        "import numpy as np"
      ],
      "execution_count": 1,
      "outputs": []
    },
    {
      "cell_type": "markdown",
      "metadata": {
        "id": "GLlMFHYbhvWc",
        "colab_type": "text"
      },
      "source": [
        "#### 2. Print the numpy version and the configuration (★☆☆)"
      ]
    },
    {
      "cell_type": "code",
      "metadata": {
        "id": "FUpTbFwohvWd",
        "colab_type": "code",
        "colab": {
          "base_uri": "https://localhost:8080/",
          "height": 34
        },
        "outputId": "6357b4ba-03cd-44a3-fed4-1332114a7640"
      },
      "source": [
        "print(np.__version__)"
      ],
      "execution_count": 2,
      "outputs": [
        {
          "output_type": "stream",
          "text": [
            "1.18.5\n"
          ],
          "name": "stdout"
        }
      ]
    },
    {
      "cell_type": "markdown",
      "metadata": {
        "id": "9vaioSmvhvWg",
        "colab_type": "text"
      },
      "source": [
        "#### 3. Create a null vector of size 10 (★☆☆)"
      ]
    },
    {
      "cell_type": "code",
      "metadata": {
        "id": "DsTUFBFuhvWh",
        "colab_type": "code",
        "colab": {}
      },
      "source": [
        "x = np.zeros(10)"
      ],
      "execution_count": 3,
      "outputs": []
    },
    {
      "cell_type": "markdown",
      "metadata": {
        "id": "ETjcwc64hvWj",
        "colab_type": "text"
      },
      "source": [
        "#### 4. How to find the size of any array (★☆☆)"
      ]
    },
    {
      "cell_type": "code",
      "metadata": {
        "id": "Vd8dpMbYhvWk",
        "colab_type": "code",
        "colab": {
          "base_uri": "https://localhost:8080/",
          "height": 34
        },
        "outputId": "a5753b0c-cf43-42d4-a35c-66eda905a795"
      },
      "source": [
        "x.size"
      ],
      "execution_count": 4,
      "outputs": [
        {
          "output_type": "execute_result",
          "data": {
            "text/plain": [
              "10"
            ]
          },
          "metadata": {
            "tags": []
          },
          "execution_count": 4
        }
      ]
    },
    {
      "cell_type": "markdown",
      "metadata": {
        "id": "cNAXXt8-hvWn",
        "colab_type": "text"
      },
      "source": [
        "#### 5. Create a null vector of size 10(★☆☆)"
      ]
    },
    {
      "cell_type": "code",
      "metadata": {
        "id": "SXRK-4XEhvWn",
        "colab_type": "code",
        "colab": {
          "base_uri": "https://localhost:8080/",
          "height": 34
        },
        "outputId": "613c516c-8b6e-4c21-ca2b-f84d516cd547"
      },
      "source": [
        "x = np.zeros(10)\n",
        "print(x)"
      ],
      "execution_count": 5,
      "outputs": [
        {
          "output_type": "stream",
          "text": [
            "[0. 0. 0. 0. 0. 0. 0. 0. 0. 0.]\n"
          ],
          "name": "stdout"
        }
      ]
    },
    {
      "cell_type": "markdown",
      "metadata": {
        "id": "dzM8FUn_hvWr",
        "colab_type": "text"
      },
      "source": [
        "#### 6. Create a vector with values ranging from 10 to 49 (★☆☆)"
      ]
    },
    {
      "cell_type": "code",
      "metadata": {
        "id": "uMwij4NMhvWr",
        "colab_type": "code",
        "colab": {
          "base_uri": "https://localhost:8080/",
          "height": 68
        },
        "outputId": "ec92a52c-e6bc-492b-d309-22ee10a62346"
      },
      "source": [
        "np.arange(10,49)"
      ],
      "execution_count": 6,
      "outputs": [
        {
          "output_type": "execute_result",
          "data": {
            "text/plain": [
              "array([10, 11, 12, 13, 14, 15, 16, 17, 18, 19, 20, 21, 22, 23, 24, 25, 26,\n",
              "       27, 28, 29, 30, 31, 32, 33, 34, 35, 36, 37, 38, 39, 40, 41, 42, 43,\n",
              "       44, 45, 46, 47, 48])"
            ]
          },
          "metadata": {
            "tags": []
          },
          "execution_count": 6
        }
      ]
    },
    {
      "cell_type": "markdown",
      "metadata": {
        "id": "RXU6G_OehvWv",
        "colab_type": "text"
      },
      "source": [
        "#### 7. Create a 3x3 matrix with values ranging from 0 to 8 (★☆☆)"
      ]
    },
    {
      "cell_type": "code",
      "metadata": {
        "id": "KthCpS-9hvWv",
        "colab_type": "code",
        "colab": {
          "base_uri": "https://localhost:8080/",
          "height": 68
        },
        "outputId": "7845d9b8-ca4e-4637-a55c-ad72906fcb82"
      },
      "source": [
        "np.arange(0,9).reshape(3,3)"
      ],
      "execution_count": 7,
      "outputs": [
        {
          "output_type": "execute_result",
          "data": {
            "text/plain": [
              "array([[0, 1, 2],\n",
              "       [3, 4, 5],\n",
              "       [6, 7, 8]])"
            ]
          },
          "metadata": {
            "tags": []
          },
          "execution_count": 7
        }
      ]
    },
    {
      "cell_type": "markdown",
      "metadata": {
        "id": "tEcEItz9hvWy",
        "colab_type": "text"
      },
      "source": [
        "#### 8. Create a 3x3 identity matrix (★☆☆)"
      ]
    },
    {
      "cell_type": "code",
      "metadata": {
        "id": "pKSAi7QNhvWy",
        "colab_type": "code",
        "colab": {
          "base_uri": "https://localhost:8080/",
          "height": 68
        },
        "outputId": "854f4a8c-052b-4e5f-df09-921985ed9973"
      },
      "source": [
        "np.identity(3)"
      ],
      "execution_count": 8,
      "outputs": [
        {
          "output_type": "execute_result",
          "data": {
            "text/plain": [
              "array([[1., 0., 0.],\n",
              "       [0., 1., 0.],\n",
              "       [0., 0., 1.]])"
            ]
          },
          "metadata": {
            "tags": []
          },
          "execution_count": 8
        }
      ]
    },
    {
      "cell_type": "markdown",
      "metadata": {
        "id": "8RvZOmg6hvW1",
        "colab_type": "text"
      },
      "source": [
        "#### 9. Create a 3x3x3 array with random values (★☆☆)"
      ]
    },
    {
      "cell_type": "code",
      "metadata": {
        "id": "_H0u69cRhvW1",
        "colab_type": "code",
        "colab": {
          "base_uri": "https://localhost:8080/",
          "height": 204
        },
        "outputId": "1e2a9d9d-7aa3-4730-f95a-f9b5a3b3d687"
      },
      "source": [
        "np.random.randint(27,size=(3,3,3))"
      ],
      "execution_count": 9,
      "outputs": [
        {
          "output_type": "execute_result",
          "data": {
            "text/plain": [
              "array([[[ 1,  8,  2],\n",
              "        [ 5,  3, 24],\n",
              "        [11, 25,  1]],\n",
              "\n",
              "       [[ 4,  3, 21],\n",
              "        [ 6, 24, 20],\n",
              "        [23,  7,  7]],\n",
              "\n",
              "       [[ 6,  0, 15],\n",
              "        [ 0, 17,  2],\n",
              "        [16, 14,  7]]])"
            ]
          },
          "metadata": {
            "tags": []
          },
          "execution_count": 9
        }
      ]
    },
    {
      "cell_type": "markdown",
      "metadata": {
        "id": "Fvtqa8AbhvW3",
        "colab_type": "text"
      },
      "source": [
        "#### 10. Create a 10x10 array with random values and find the minimum and maximum values (★☆☆)"
      ]
    },
    {
      "cell_type": "code",
      "metadata": {
        "id": "lMrHwddGhvW4",
        "colab_type": "code",
        "colab": {
          "base_uri": "https://localhost:8080/",
          "height": 51
        },
        "outputId": "70f54c24-d4a5-4067-86f5-9ad05ae0eea9"
      },
      "source": [
        "x = np.random.randint(1000,size=(10,10))\n",
        "print(\"Minimum = \",x.min())\n",
        "print(\"Maximum = \",x.max())"
      ],
      "execution_count": 10,
      "outputs": [
        {
          "output_type": "stream",
          "text": [
            "Minimum =  25\n",
            "Maximum =  988\n"
          ],
          "name": "stdout"
        }
      ]
    },
    {
      "cell_type": "markdown",
      "metadata": {
        "id": "GWZc_SHPhvW7",
        "colab_type": "text"
      },
      "source": [
        "#### 11. Create a random vector of size 30 and find the mean value (★☆☆)"
      ]
    },
    {
      "cell_type": "code",
      "metadata": {
        "id": "IB3mUS2LhvW8",
        "colab_type": "code",
        "colab": {
          "base_uri": "https://localhost:8080/",
          "height": 34
        },
        "outputId": "1b87011c-12ae-4d3c-a8a4-9969200d85ed"
      },
      "source": [
        "x = np.random.randint(1000,size=30)\n",
        "print(\"Mean = \",x.mean())"
      ],
      "execution_count": 11,
      "outputs": [
        {
          "output_type": "stream",
          "text": [
            "Mean =  527.0666666666667\n"
          ],
          "name": "stdout"
        }
      ]
    },
    {
      "cell_type": "markdown",
      "metadata": {
        "id": "V8jf8OGXhvW_",
        "colab_type": "text"
      },
      "source": [
        "#### 12. Create a 2d array (★☆☆)"
      ]
    },
    {
      "cell_type": "code",
      "metadata": {
        "id": "eY4cSG7GhvW_",
        "colab_type": "code",
        "colab": {
          "base_uri": "https://localhost:8080/",
          "height": 51
        },
        "outputId": "c970d7dc-caa3-4e02-b86f-cff0af88a5b8"
      },
      "source": [
        "x = np.array([4,2,5,1]).reshape(2,2)\n",
        "x"
      ],
      "execution_count": 12,
      "outputs": [
        {
          "output_type": "execute_result",
          "data": {
            "text/plain": [
              "array([[4, 2],\n",
              "       [5, 1]])"
            ]
          },
          "metadata": {
            "tags": []
          },
          "execution_count": 12
        }
      ]
    },
    {
      "cell_type": "markdown",
      "metadata": {
        "id": "riB1WgfNhvXC",
        "colab_type": "text"
      },
      "source": [
        "#### 13. Multiply a 5x3 matrix by a 3x2 matrix (real matrix product) (★☆☆)"
      ]
    },
    {
      "cell_type": "code",
      "metadata": {
        "id": "4Vskb6PehvXD",
        "colab_type": "code",
        "colab": {
          "base_uri": "https://localhost:8080/",
          "height": 102
        },
        "outputId": "89ddeb09-23bd-4b1a-e78e-52034fe031dd"
      },
      "source": [
        "a = np.matrix(np.random.randint(100,size=(5,3)))\n",
        "b = np.matrix(np.random.randint(6,size=(3,2)))\n",
        "np.dot(a,b)"
      ],
      "execution_count": 13,
      "outputs": [
        {
          "output_type": "execute_result",
          "data": {
            "text/plain": [
              "matrix([[418, 356],\n",
              "        [760, 205],\n",
              "        [984, 456],\n",
              "        [582,  28],\n",
              "        [475,  54]])"
            ]
          },
          "metadata": {
            "tags": []
          },
          "execution_count": 13
        }
      ]
    },
    {
      "cell_type": "markdown",
      "metadata": {
        "id": "4aeCewEihvXG",
        "colab_type": "text"
      },
      "source": [
        "#### 14. Create a 5X5 array with random values and compute statistics such as mean,med,std and var"
      ]
    },
    {
      "cell_type": "code",
      "metadata": {
        "id": "vaD2JuBUhvXG",
        "colab_type": "code",
        "colab": {
          "base_uri": "https://localhost:8080/",
          "height": 68
        },
        "outputId": "4fc468f1-f733-4fa3-970f-c4a927e2f5a2"
      },
      "source": [
        "x = np.random.randint(100,size=(5,5))\n",
        "print(\"Mean = \",x.mean())\n",
        "print(\"Std = \",x.std())\n",
        "print(\"Var = \",x.var())"
      ],
      "execution_count": 14,
      "outputs": [
        {
          "output_type": "stream",
          "text": [
            "Mean =  34.36\n",
            "Std =  24.051411600985087\n",
            "Var =  578.4704\n"
          ],
          "name": "stdout"
        }
      ]
    },
    {
      "cell_type": "markdown",
      "metadata": {
        "id": "kauZ__ouhvXI",
        "colab_type": "text"
      },
      "source": [
        "#### 15. Convert below statement to lowercase and first letter to upper case\n",
        "\n",
        "\"Am I learning new from these python sessions ?\""
      ]
    },
    {
      "cell_type": "code",
      "metadata": {
        "id": "eom_0hMshvXJ",
        "colab_type": "code",
        "colab": {
          "base_uri": "https://localhost:8080/",
          "height": 34
        },
        "outputId": "47217075-9e82-459c-e067-3c6ac6040bf5"
      },
      "source": [
        "s = np.array(\"Am I learning new from these python sessions ?\")\n",
        "print(np.char.title(s))"
      ],
      "execution_count": 15,
      "outputs": [
        {
          "output_type": "stream",
          "text": [
            "Am I Learning New From These Python Sessions ?\n"
          ],
          "name": "stdout"
        }
      ]
    },
    {
      "cell_type": "markdown",
      "metadata": {
        "id": "jXokOMSdhvXM",
        "colab_type": "text"
      },
      "source": [
        "#### 16. Convert your response (for above question)  to upper case"
      ]
    },
    {
      "cell_type": "code",
      "metadata": {
        "id": "fIW0f1w_hvXM",
        "colab_type": "code",
        "colab": {
          "base_uri": "https://localhost:8080/",
          "height": 34
        },
        "outputId": "eb42ac0f-0182-4f87-deaa-41c9cc9a42c2"
      },
      "source": [
        "s = np.array(\"Am I learning new from these python sessions ?\")\n",
        "print(np.char.lower(s))"
      ],
      "execution_count": 16,
      "outputs": [
        {
          "output_type": "stream",
          "text": [
            "am i learning new from these python sessions ?\n"
          ],
          "name": "stdout"
        }
      ]
    },
    {
      "cell_type": "markdown",
      "metadata": {
        "id": "Qs5BmuVyhvXP",
        "colab_type": "text"
      },
      "source": [
        "#### 17. Create 4X4 array and combine another 2X4 array vertically"
      ]
    },
    {
      "cell_type": "code",
      "metadata": {
        "id": "Z5Ya9rExhvXQ",
        "colab_type": "code",
        "colab": {
          "base_uri": "https://localhost:8080/",
          "height": 221
        },
        "outputId": "4a5fbf1a-e447-438c-fbb1-443f7d808e0e"
      },
      "source": [
        "x = np.random.randint(100,size=(4,4))\n",
        "y = np.random.randint(100,size=(2,4))\n",
        "print(x)\n",
        "print(y)\n",
        "np.append(x,y,axis=0)"
      ],
      "execution_count": 20,
      "outputs": [
        {
          "output_type": "stream",
          "text": [
            "[[65 23 67 64]\n",
            " [20 94 71 97]\n",
            " [37 56 35 88]\n",
            " [44 93 84 20]]\n",
            "[[57 38 30 48]\n",
            " [90 92 61 81]]\n"
          ],
          "name": "stdout"
        },
        {
          "output_type": "execute_result",
          "data": {
            "text/plain": [
              "array([[65, 23, 67, 64],\n",
              "       [20, 94, 71, 97],\n",
              "       [37, 56, 35, 88],\n",
              "       [44, 93, 84, 20],\n",
              "       [57, 38, 30, 48],\n",
              "       [90, 92, 61, 81]])"
            ]
          },
          "metadata": {
            "tags": []
          },
          "execution_count": 20
        }
      ]
    }
  ]
}
