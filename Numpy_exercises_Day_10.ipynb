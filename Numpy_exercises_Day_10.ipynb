{
  "nbformat": 4,
  "nbformat_minor": 0,
  "metadata": {
    "kernelspec": {
      "display_name": "Python 3",
      "language": "python",
      "name": "python3"
    },
    "language_info": {
      "codemirror_mode": {
        "name": "ipython",
        "version": 3
      },
      "file_extension": ".py",
      "mimetype": "text/x-python",
      "name": "python",
      "nbconvert_exporter": "python",
      "pygments_lexer": "ipython3",
      "version": "3.7.4"
    },
    "colab": {
      "name": "Numpy_exercises Day 10.ipynb",
      "provenance": [],
      "include_colab_link": true
    }
  },
  "cells": [
    {
      "cell_type": "markdown",
      "metadata": {
        "id": "view-in-github",
        "colab_type": "text"
      },
      "source": [
        "<a href=\"https://colab.research.google.com/github/bhargav23/JNTU_PYTHON_Assignments/blob/master/Numpy_exercises_Day_10.ipynb\" target=\"_parent\"><img src=\"https://colab.research.google.com/assets/colab-badge.svg\" alt=\"Open In Colab\"/></a>"
      ]
    },
    {
      "cell_type": "markdown",
      "metadata": {
        "id": "kOsbx0RVhvWW",
        "colab_type": "text"
      },
      "source": [
        "# Assignment questions for Numpy"
      ]
    },
    {
      "cell_type": "markdown",
      "metadata": {
        "id": "ypYU12lehvWX",
        "colab_type": "text"
      },
      "source": [
        "#### 1. Import the numpy package under the name `np` (★☆☆)"
      ]
    },
    {
      "cell_type": "code",
      "metadata": {
        "id": "cD03XTw4hvWY",
        "colab_type": "code",
        "colab": {}
      },
      "source": [
        "import numpy as np"
      ],
      "execution_count": null,
      "outputs": []
    },
    {
      "cell_type": "markdown",
      "metadata": {
        "id": "GLlMFHYbhvWc",
        "colab_type": "text"
      },
      "source": [
        "#### 2. Print the numpy version and the configuration (★☆☆)"
      ]
    },
    {
      "cell_type": "code",
      "metadata": {
        "id": "FUpTbFwohvWd",
        "colab_type": "code",
        "colab": {
          "base_uri": "https://localhost:8080/",
          "height": 34
        },
        "outputId": "d13e33a0-230a-45d6-ece4-ff5aaca9595b"
      },
      "source": [
        "print(np.__version__)"
      ],
      "execution_count": 3,
      "outputs": [
        {
          "output_type": "stream",
          "text": [
            "1.18.5\n"
          ],
          "name": "stdout"
        }
      ]
    },
    {
      "cell_type": "markdown",
      "metadata": {
        "id": "9vaioSmvhvWg",
        "colab_type": "text"
      },
      "source": [
        "#### 3. Create a null vector of size 10 (★☆☆)"
      ]
    },
    {
      "cell_type": "code",
      "metadata": {
        "id": "DsTUFBFuhvWh",
        "colab_type": "code",
        "colab": {}
      },
      "source": [
        "x = np.zeros(10)"
      ],
      "execution_count": 4,
      "outputs": []
    },
    {
      "cell_type": "markdown",
      "metadata": {
        "id": "ETjcwc64hvWj",
        "colab_type": "text"
      },
      "source": [
        "#### 4. How to find the size of any array (★☆☆)"
      ]
    },
    {
      "cell_type": "code",
      "metadata": {
        "id": "Vd8dpMbYhvWk",
        "colab_type": "code",
        "colab": {
          "base_uri": "https://localhost:8080/",
          "height": 34
        },
        "outputId": "e470ba23-763b-4c42-ba55-23af68526ca8"
      },
      "source": [
        "x.size"
      ],
      "execution_count": 5,
      "outputs": [
        {
          "output_type": "execute_result",
          "data": {
            "text/plain": [
              "10"
            ]
          },
          "metadata": {
            "tags": []
          },
          "execution_count": 5
        }
      ]
    },
    {
      "cell_type": "markdown",
      "metadata": {
        "id": "cNAXXt8-hvWn",
        "colab_type": "text"
      },
      "source": [
        "#### 5. Create a null vector of size 10(★☆☆)"
      ]
    },
    {
      "cell_type": "code",
      "metadata": {
        "id": "SXRK-4XEhvWn",
        "colab_type": "code",
        "colab": {
          "base_uri": "https://localhost:8080/",
          "height": 34
        },
        "outputId": "ae1b5a6b-3637-4b3a-8f1c-03fad4f8954e"
      },
      "source": [
        "x = np.zeros(10)\n",
        "print(x)"
      ],
      "execution_count": 7,
      "outputs": [
        {
          "output_type": "stream",
          "text": [
            "[0. 0. 0. 0. 0. 0. 0. 0. 0. 0.]\n"
          ],
          "name": "stdout"
        }
      ]
    },
    {
      "cell_type": "markdown",
      "metadata": {
        "id": "dzM8FUn_hvWr",
        "colab_type": "text"
      },
      "source": [
        "#### 6. Create a vector with values ranging from 10 to 49 (★☆☆)"
      ]
    },
    {
      "cell_type": "code",
      "metadata": {
        "id": "uMwij4NMhvWr",
        "colab_type": "code",
        "colab": {
          "base_uri": "https://localhost:8080/",
          "height": 68
        },
        "outputId": "b8fb91aa-17eb-4f8d-b7ff-a39932a327f7"
      },
      "source": [
        "np.arange(10,49)"
      ],
      "execution_count": 9,
      "outputs": [
        {
          "output_type": "execute_result",
          "data": {
            "text/plain": [
              "array([10, 11, 12, 13, 14, 15, 16, 17, 18, 19, 20, 21, 22, 23, 24, 25, 26,\n",
              "       27, 28, 29, 30, 31, 32, 33, 34, 35, 36, 37, 38, 39, 40, 41, 42, 43,\n",
              "       44, 45, 46, 47, 48])"
            ]
          },
          "metadata": {
            "tags": []
          },
          "execution_count": 9
        }
      ]
    },
    {
      "cell_type": "markdown",
      "metadata": {
        "id": "RXU6G_OehvWv",
        "colab_type": "text"
      },
      "source": [
        "#### 7. Create a 3x3 matrix with values ranging from 0 to 8 (★☆☆)"
      ]
    },
    {
      "cell_type": "code",
      "metadata": {
        "id": "KthCpS-9hvWv",
        "colab_type": "code",
        "colab": {
          "base_uri": "https://localhost:8080/",
          "height": 68
        },
        "outputId": "f1025d5c-378d-43c4-98ca-6e38c18108a0"
      },
      "source": [
        "np.arange(0,9).reshape(3,3)"
      ],
      "execution_count": 11,
      "outputs": [
        {
          "output_type": "execute_result",
          "data": {
            "text/plain": [
              "array([[0, 1, 2],\n",
              "       [3, 4, 5],\n",
              "       [6, 7, 8]])"
            ]
          },
          "metadata": {
            "tags": []
          },
          "execution_count": 11
        }
      ]
    },
    {
      "cell_type": "markdown",
      "metadata": {
        "id": "tEcEItz9hvWy",
        "colab_type": "text"
      },
      "source": [
        "#### 8. Create a 3x3 identity matrix (★☆☆)"
      ]
    },
    {
      "cell_type": "code",
      "metadata": {
        "id": "pKSAi7QNhvWy",
        "colab_type": "code",
        "colab": {
          "base_uri": "https://localhost:8080/",
          "height": 68
        },
        "outputId": "c6151bfe-8e98-4c25-f272-cce935fd92e1"
      },
      "source": [
        "np.identity(3)"
      ],
      "execution_count": 12,
      "outputs": [
        {
          "output_type": "execute_result",
          "data": {
            "text/plain": [
              "array([[1., 0., 0.],\n",
              "       [0., 1., 0.],\n",
              "       [0., 0., 1.]])"
            ]
          },
          "metadata": {
            "tags": []
          },
          "execution_count": 12
        }
      ]
    },
    {
      "cell_type": "markdown",
      "metadata": {
        "id": "8RvZOmg6hvW1",
        "colab_type": "text"
      },
      "source": [
        "#### 9. Create a 3x3x3 array with random values (★☆☆)"
      ]
    },
    {
      "cell_type": "code",
      "metadata": {
        "id": "_H0u69cRhvW1",
        "colab_type": "code",
        "colab": {
          "base_uri": "https://localhost:8080/",
          "height": 204
        },
        "outputId": "b58a6fc8-7997-4c9e-dda1-d24d3d31875b"
      },
      "source": [
        "np.random.randint(27,size=(3,3,3))"
      ],
      "execution_count": 15,
      "outputs": [
        {
          "output_type": "execute_result",
          "data": {
            "text/plain": [
              "array([[[17, 22, 16],\n",
              "        [18, 10, 13],\n",
              "        [21, 24,  3]],\n",
              "\n",
              "       [[ 7,  3, 18],\n",
              "        [ 6,  2,  6],\n",
              "        [22,  4, 18]],\n",
              "\n",
              "       [[ 2,  9, 23],\n",
              "        [23,  2,  0],\n",
              "        [19, 18,  9]]])"
            ]
          },
          "metadata": {
            "tags": []
          },
          "execution_count": 15
        }
      ]
    },
    {
      "cell_type": "markdown",
      "metadata": {
        "id": "Fvtqa8AbhvW3",
        "colab_type": "text"
      },
      "source": [
        "#### 10. Create a 10x10 array with random values and find the minimum and maximum values (★☆☆)"
      ]
    },
    {
      "cell_type": "code",
      "metadata": {
        "id": "lMrHwddGhvW4",
        "colab_type": "code",
        "colab": {
          "base_uri": "https://localhost:8080/",
          "height": 51
        },
        "outputId": "2e03eddf-337c-42fe-b3cc-a7756d0ba28f"
      },
      "source": [
        "x = np.random.randint(1000,size=(10,10))\n",
        "print(\"Minimum = \",x.min())\n",
        "print(\"Maximum = \",x.max())"
      ],
      "execution_count": 34,
      "outputs": [
        {
          "output_type": "stream",
          "text": [
            "Minimum =  12\n",
            "Maximum =  982\n"
          ],
          "name": "stdout"
        }
      ]
    },
    {
      "cell_type": "markdown",
      "metadata": {
        "id": "GWZc_SHPhvW7",
        "colab_type": "text"
      },
      "source": [
        "#### 11. Create a random vector of size 30 and find the mean value (★☆☆)"
      ]
    },
    {
      "cell_type": "code",
      "metadata": {
        "id": "IB3mUS2LhvW8",
        "colab_type": "code",
        "colab": {
          "base_uri": "https://localhost:8080/",
          "height": 34
        },
        "outputId": "dde8df14-760a-42cf-a547-41c9a0e20df9"
      },
      "source": [
        "x = np.random.randint(1000,size=30)\n",
        "print(\"Mean = \",x.mean())"
      ],
      "execution_count": 36,
      "outputs": [
        {
          "output_type": "stream",
          "text": [
            "Mean =  629.5333333333333\n"
          ],
          "name": "stdout"
        }
      ]
    },
    {
      "cell_type": "markdown",
      "metadata": {
        "id": "V8jf8OGXhvW_",
        "colab_type": "text"
      },
      "source": [
        "#### 12. Create a 2d array (★☆☆)"
      ]
    },
    {
      "cell_type": "code",
      "metadata": {
        "id": "eY4cSG7GhvW_",
        "colab_type": "code",
        "colab": {
          "base_uri": "https://localhost:8080/",
          "height": 51
        },
        "outputId": "94dffa24-8ee3-4e30-c916-c8618a82480b"
      },
      "source": [
        "x = np.array([4,2,5,1]).reshape(2,2)\n",
        "x"
      ],
      "execution_count": 42,
      "outputs": [
        {
          "output_type": "execute_result",
          "data": {
            "text/plain": [
              "array([[4, 2],\n",
              "       [5, 1]])"
            ]
          },
          "metadata": {
            "tags": []
          },
          "execution_count": 42
        }
      ]
    },
    {
      "cell_type": "markdown",
      "metadata": {
        "id": "riB1WgfNhvXC",
        "colab_type": "text"
      },
      "source": [
        "#### 13. Multiply a 5x3 matrix by a 3x2 matrix (real matrix product) (★☆☆)"
      ]
    },
    {
      "cell_type": "code",
      "metadata": {
        "id": "4Vskb6PehvXD",
        "colab_type": "code",
        "colab": {
          "base_uri": "https://localhost:8080/",
          "height": 102
        },
        "outputId": "f636f4b8-64ad-4ac3-bcdf-51daae64795e"
      },
      "source": [
        "a = np.matrix(np.random.randint(100,size=(5,3)))\n",
        "b = np.matrix(np.random.randint(6,size=(3,2)))\n",
        "np.dot(a,b)"
      ],
      "execution_count": 49,
      "outputs": [
        {
          "output_type": "execute_result",
          "data": {
            "text/plain": [
              "matrix([[114, 628],\n",
              "        [ 56, 449],\n",
              "        [110, 464],\n",
              "        [124, 709],\n",
              "        [ 51, 225]])"
            ]
          },
          "metadata": {
            "tags": []
          },
          "execution_count": 49
        }
      ]
    },
    {
      "cell_type": "markdown",
      "metadata": {
        "id": "4aeCewEihvXG",
        "colab_type": "text"
      },
      "source": [
        "#### 14. Create a 5X5 array with random values and compute statistics such as mean,med,std and var"
      ]
    },
    {
      "cell_type": "code",
      "metadata": {
        "id": "vaD2JuBUhvXG",
        "colab_type": "code",
        "colab": {
          "base_uri": "https://localhost:8080/",
          "height": 68
        },
        "outputId": "21b24a77-34ea-4ff9-c32b-c9ee419d4ef5"
      },
      "source": [
        "x = np.random.randint(100,size=(5,5))\n",
        "print(\"Mean = \",x.mean())\n",
        "print(\"Std = \",x.std())\n",
        "print(\"Var = \",x.var())"
      ],
      "execution_count": 55,
      "outputs": [
        {
          "output_type": "stream",
          "text": [
            "Mean =  46.84\n",
            "Std =  25.493026497456125\n",
            "Var =  649.8944\n"
          ],
          "name": "stdout"
        }
      ]
    },
    {
      "cell_type": "markdown",
      "metadata": {
        "id": "kauZ__ouhvXI",
        "colab_type": "text"
      },
      "source": [
        "#### 15. Convert below statement to lowercase and first letter to upper case\n",
        "\n",
        "\"Am I learning new from these python sessions ?\""
      ]
    },
    {
      "cell_type": "code",
      "metadata": {
        "id": "eom_0hMshvXJ",
        "colab_type": "code",
        "colab": {
          "base_uri": "https://localhost:8080/",
          "height": 34
        },
        "outputId": "1f1c3f2e-ebd5-46e9-859e-c6c10d283408"
      },
      "source": [
        "s = np.array(\"Am I learning new from these python sessions ?\")\n",
        "print(np.char.title(s))"
      ],
      "execution_count": 66,
      "outputs": [
        {
          "output_type": "stream",
          "text": [
            "Am I Learning New From These Python Sessions ?\n"
          ],
          "name": "stdout"
        }
      ]
    },
    {
      "cell_type": "markdown",
      "metadata": {
        "id": "jXokOMSdhvXM",
        "colab_type": "text"
      },
      "source": [
        "#### 16. Convert your response (for above question)  to upper case"
      ]
    },
    {
      "cell_type": "code",
      "metadata": {
        "id": "fIW0f1w_hvXM",
        "colab_type": "code",
        "colab": {
          "base_uri": "https://localhost:8080/",
          "height": 34
        },
        "outputId": "dab698f8-5bd3-45c0-96d3-ecaf8194eb43"
      },
      "source": [
        "s = np.array(\"Am I learning new from these python sessions ?\")\n",
        "print(np.char.lower(s))"
      ],
      "execution_count": 67,
      "outputs": [
        {
          "output_type": "stream",
          "text": [
            "am i learning new from these python sessions ?\n"
          ],
          "name": "stdout"
        }
      ]
    },
    {
      "cell_type": "markdown",
      "metadata": {
        "id": "Qs5BmuVyhvXP",
        "colab_type": "text"
      },
      "source": [
        "#### 17. Create 4X4 array and combine another 2X4 array vertically"
      ]
    },
    {
      "cell_type": "code",
      "metadata": {
        "id": "Z5Ya9rExhvXQ",
        "colab_type": "code",
        "colab": {}
      },
      "source": [
        ""
      ],
      "execution_count": null,
      "outputs": []
    }
  ]
}