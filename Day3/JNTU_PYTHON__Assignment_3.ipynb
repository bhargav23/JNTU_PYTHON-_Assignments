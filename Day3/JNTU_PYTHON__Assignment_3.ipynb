{
  "nbformat": 4,
  "nbformat_minor": 0,
  "metadata": {
    "colab": {
      "name": "JNTU_PYTHON _Assignment 3.ipynb",
      "provenance": [],
      "collapsed_sections": [],
      "authorship_tag": "ABX9TyP5Iu8ZnfTazqVR0lTJMX7i",
      "include_colab_link": true
    },
    "kernelspec": {
      "name": "python3",
      "display_name": "Python 3"
    }
  },
  "cells": [
    {
      "cell_type": "markdown",
      "metadata": {
        "id": "view-in-github",
        "colab_type": "text"
      },
      "source": [
        "<a href=\"https://colab.research.google.com/github/bhargav23/JNTU_PYTHON_Assignments/blob/master/JNTU_PYTHON__Assignment_3.ipynb\" target=\"_parent\"><img src=\"https://colab.research.google.com/assets/colab-badge.svg\" alt=\"Open In Colab\"/></a>"
      ]
    },
    {
      "cell_type": "code",
      "metadata": {
        "id": "adTn8H0KlXAd",
        "colab_type": "code",
        "colab": {
          "base_uri": "https://localhost:8080/",
          "height": 34
        },
        "outputId": "0f87dfee-facd-4ec8-b265-cf8bd6126f53"
      },
      "source": [
        "'''\n",
        "1. Write a Python program to count the number of characters (character frequency) in a string\n",
        "\n",
        "'''\n",
        "str = \"Sample Text\"\n",
        "dict = {}\n",
        "for n in str:\n",
        "    keys = dict.keys()\n",
        "    if n in keys:\n",
        "        dict[n] += 1\n",
        "    else:\n",
        "        dict[n] = 1\n",
        "\n",
        "print(dict)\n"
      ],
      "execution_count": 1,
      "outputs": [
        {
          "output_type": "stream",
          "text": [
            "{'S': 1, 'a': 1, 'm': 1, 'p': 1, 'l': 1, 'e': 2, ' ': 1, 'T': 1, 'x': 1, 't': 1}\n"
          ],
          "name": "stdout"
        }
      ]
    },
    {
      "cell_type": "code",
      "metadata": {
        "id": "L62SnAHhlcJX",
        "colab_type": "code",
        "colab": {
          "base_uri": "https://localhost:8080/",
          "height": 425
        },
        "outputId": "ac5d657f-f542-4a52-c758-b04d6d2daf38"
      },
      "source": [
        "'''\n",
        "2. Write a Python program demonstrating all the string methods that were discussed in day1 session.\n",
        "\n",
        "'''\n",
        "\n",
        "\n",
        "str = 'hello world!'\n",
        "str2 = \"python programming\"\n",
        "\n",
        "print(\"complete string:\", str )\n",
        "\n",
        "print(\"first character of the string:\", str[0])\n",
        "\n",
        "print(\"the string starting from 2nd to 5th:\",str2[1:5])\n",
        "\n",
        "strupdate = str[:6] + 'Python'\n",
        "print(\"Updated string :-\", strupdate )\n",
        "\n",
        "sub = \"P\"\n",
        "\n",
        "print(\"Subsring is searched:\",str2.count(sub))\n",
        "print(\"Substring is searched between 0 to 10 :\",str2.count(sub,0,10))\n",
        "\n",
        "sub = \"Prog\"\n",
        "\n",
        "print(\"Search a substring \\'Prog\\' in the string : \", str2.find(sub,50))\n",
        "\n",
        "\n",
        "str = \"-\"\n",
        "seq = (\"Easy\",\"to\",\"Use\")\n",
        "print(\"Join string with a separated character :\", str.join(seq))\n",
        "\n",
        "print(\"Length of the string: \", len(str2))\n",
        "\n",
        "str2 = \"0000000000Python Programming00000000\"\n",
        "\n",
        "print(\"Strip the leading and trailing zeros in a string:\", str2.strip('0'))\n",
        "\n",
        "str2 = \"Python Programming\"\n",
        "print(\"Split a string: \", str2.split())\n",
        "\n",
        "print(str2.replace(\"Python\",\"Perl\"))\n",
        "\n",
        "name = \"python programming\"\n",
        "\n",
        "print(name)\n",
        "\n",
        "print(name.upper())\n",
        "print(name.lower())\n",
        "print(name.islower())\n",
        "print(name.isupper())\n",
        "print(name.split(\" \"))\n",
        "print(name.capitalize())\n",
        "print(name.center(50))\n",
        "print(name.center(50,\"*\"))\n",
        "\n",
        "query = \"I love {} and {}\"\n",
        "\n",
        "print(query.format(\"python\",\"hadoop\"))\n",
        "print(query.format(1,2))\n",
        "\n",
        "\n",
        "val = None\n",
        "print(val)\n"
      ],
      "execution_count": 11,
      "outputs": [
        {
          "output_type": "stream",
          "text": [
            "complete string: hello world!\n",
            "first character of the string: h\n",
            "the string starting from 2nd to 5th: ytho\n",
            "Updated string :- hello Python\n",
            "Subsring is searched: 0\n",
            "Substring is searched between 0 to 10 : 0\n",
            "Search a substring 'Prog' in the string :  -1\n",
            "Join string with a separated character : Easy-to-Use\n",
            "Length of the string:  18\n",
            "Strip the leading and trailing zeros in a string: Python Programming\n",
            "Split a string:  ['Python', 'Programming']\n",
            "Perl Programming\n",
            "python programming\n",
            "PYTHON PROGRAMMING\n",
            "python programming\n",
            "True\n",
            "False\n",
            "['python', 'programming']\n",
            "Python programming\n",
            "                python programming                \n",
            "****************python programming****************\n",
            "I love python and hadoop\n",
            "I love 1 and 2\n",
            "None\n"
          ],
          "name": "stdout"
        }
      ]
    },
    {
      "cell_type": "code",
      "metadata": {
        "colab_type": "code",
        "id": "_C3evoM1mjd0",
        "colab": {
          "base_uri": "https://localhost:8080/",
          "height": 204
        },
        "outputId": "10b0907a-b28c-48df-a35f-5078e17bd3f2"
      },
      "source": [
        "'''\n",
        "3. Write a Python program demonstrating all the list methods that were discussed in day1 session.\n",
        "\n",
        "'''\n",
        "\n",
        "alist = [10,20,30,40,565443,4,400,54,10]\n",
        "\n",
        "alist.append(600)\n",
        "print(\"List elements are :\", alist)\n",
        "alist.append(45)\n",
        "alist.append(89)\n",
        "print(\"List elements are :\", alist)\n",
        "\n",
        "alist.extend([50,34,4,6,45])\n",
        "\n",
        "print(\"List elements are :\", alist)\n",
        "\n",
        "print(alist.count(10))\n",
        "\n",
        "# list.insert(where to insert, what to insert)\n",
        "alist.insert(0,5)\n",
        "print(\"List elements are :\", alist)\n",
        "\n",
        "alist.insert(2,200)\n",
        "print(\"List elements are :\", alist)\n",
        "\n",
        "alist.pop()    # by deault last element will be removed\n",
        "print(\"List elements are :\", alist)\n",
        "alist.pop(1)    \n",
        "print(\"List elements are :\", alist)\n",
        "\n",
        "## we pass the value DIRECTLY ... not the index\n",
        "alist.remove(200)    # element is passed directly\n",
        "print(\"List elements are :\", alist)\n",
        "\n",
        "alist.reverse()\n",
        "print(\"List elements are :\", alist)\n",
        "\n",
        "alist.sort()\n",
        "print(\"List elements are :\", alist)\n",
        "\n",
        "\n"
      ],
      "execution_count": 3,
      "outputs": [
        {
          "output_type": "stream",
          "text": [
            "List elements are : [10, 20, 30, 40, 565443, 4, 400, 54, 10, 600]\n",
            "List elements are : [10, 20, 30, 40, 565443, 4, 400, 54, 10, 600, 45, 89]\n",
            "List elements are : [10, 20, 30, 40, 565443, 4, 400, 54, 10, 600, 45, 89, 50, 34, 4, 6, 45]\n",
            "2\n",
            "List elements are : [5, 10, 20, 30, 40, 565443, 4, 400, 54, 10, 600, 45, 89, 50, 34, 4, 6, 45]\n",
            "List elements are : [5, 10, 200, 20, 30, 40, 565443, 4, 400, 54, 10, 600, 45, 89, 50, 34, 4, 6, 45]\n",
            "List elements are : [5, 10, 200, 20, 30, 40, 565443, 4, 400, 54, 10, 600, 45, 89, 50, 34, 4, 6]\n",
            "List elements are : [5, 200, 20, 30, 40, 565443, 4, 400, 54, 10, 600, 45, 89, 50, 34, 4, 6]\n",
            "List elements are : [5, 20, 30, 40, 565443, 4, 400, 54, 10, 600, 45, 89, 50, 34, 4, 6]\n",
            "List elements are : [6, 4, 34, 50, 89, 45, 600, 10, 54, 400, 4, 565443, 40, 30, 20, 5]\n",
            "List elements are : [4, 4, 5, 6, 10, 20, 30, 34, 40, 45, 50, 54, 89, 400, 600, 565443]\n"
          ],
          "name": "stdout"
        }
      ]
    },
    {
      "cell_type": "code",
      "metadata": {
        "colab_type": "code",
        "id": "O0ko7Fn8mjoC",
        "colab": {
          "base_uri": "https://localhost:8080/",
          "height": 221
        },
        "outputId": "8c137383-47d4-4e92-9404-c75a3a09c75f"
      },
      "source": [
        "'''\n",
        "4. Write a Python program demonstrating all the dictionary methods that were discussed in day1 session.\n",
        "\n",
        "'''\n",
        "#!/usr/bin/python\n",
        "\n",
        "# Dictionaries in python\n",
        "dict = {'Subject':'Physics','Year':2014,'Marks':88}\n",
        "\n",
        "# to print complete dictionary\n",
        "print(\"Complete dict : \", dict )\n",
        "\n",
        "# If we attempt to access a data item a key\n",
        "# which is not part of the dictionary, we get an error\n",
        "# to print the values in the dictionary\n",
        "print(\"dict['Subject']:\",dict['Subject'])\n",
        "print(\"dict['Marks']:\",dict['Marks'])\n",
        "\n",
        "# update existing entry\n",
        "dict['Year'] = 2013\n",
        "\n",
        "# created a new key with value\n",
        "dict['School'] = 'Milton High'\n",
        "print(\"after new key : \", dict )\n",
        "\n",
        "# remove individual dictionary elements or clear the entire contents of a dictionary\n",
        "# remove entry ith key 'Subject'\n",
        "\n",
        "del dict['Subject']\n",
        "print(\"after removing key \\'Subject\\' : \", dict )\n",
        "\n",
        "# remove all entries in dict\n",
        "dict.clear()\n",
        "print(\"After removing all entries : \", dict )\n",
        "\n",
        "# delete entire dictionary\n",
        "del dict ;\n",
        "print(\"dictionary dict deleted.\")\n",
        "\n",
        "\n",
        "# assign dictionaries\n",
        "dict = {'Subject':'physics','Year':2014,'Marks':88}\n",
        "adict = {'School':'Milton High'}\n",
        "\n",
        "# a shallow copy of dictionary dict\n",
        "dict.copy()\n",
        "\n",
        "# a list of dict's ( key, value ) tuple pairs\n",
        "dict.items()\n",
        "print(\"dict\\'s (key,value) tuple pairs :\", dict.items())\n",
        "\n",
        "# list of dictionary dict's keys\n",
        "dict.keys()\n",
        "print(\"dict\\'s keys : \",dict.keys())\n",
        "\n",
        "# list of dictionary dict's values\n",
        "dict.values()\n",
        "print(\"dict\\'s values : \", dict.values())\n",
        "\n",
        "# to add dictionary dict2's key-values pairs to dict\n",
        "print(\"Second dictionary adict: \", adict )\n",
        "dict.update(adict)\n",
        "print(\"dict after updation: \", dict )\n",
        "\n",
        "\n"
      ],
      "execution_count": 4,
      "outputs": [
        {
          "output_type": "stream",
          "text": [
            "Complete dict :  {'Subject': 'Physics', 'Year': 2014, 'Marks': 88}\n",
            "dict['Subject']: Physics\n",
            "dict['Marks']: 88\n",
            "after new key :  {'Subject': 'Physics', 'Year': 2013, 'Marks': 88, 'School': 'Milton High'}\n",
            "after removing key 'Subject' :  {'Year': 2013, 'Marks': 88, 'School': 'Milton High'}\n",
            "After removing all entries :  {}\n",
            "dictionary dict deleted.\n",
            "dict's (key,value) tuple pairs : dict_items([('Subject', 'physics'), ('Year', 2014), ('Marks', 88)])\n",
            "dict's keys :  dict_keys(['Subject', 'Year', 'Marks'])\n",
            "dict's values :  dict_values(['physics', 2014, 88])\n",
            "Second dictionary adict:  {'School': 'Milton High'}\n",
            "dict after updation:  {'Subject': 'physics', 'Year': 2014, 'Marks': 88, 'School': 'Milton High'}\n"
          ],
          "name": "stdout"
        }
      ]
    },
    {
      "cell_type": "code",
      "metadata": {
        "id": "wiQb_-rlqFv-",
        "colab_type": "code",
        "colab": {
          "base_uri": "https://localhost:8080/",
          "height": 272
        },
        "outputId": "db52db75-a23a-4fa6-bd38-573ca878b27f"
      },
      "source": [
        "'''\n",
        "5. Write a Python program demonstrating all the set methods that were discussed in day1 session.\n",
        "'''\n",
        "\n",
        "# Python program to demonstrate \n",
        "# Creation of Set in Python \n",
        "\n",
        "# Creating a Set \n",
        "\n",
        "set1 = set([1, 2, 4, 4, 3, 3, 3, 6, 5]) \n",
        "print(\"\\nSet with the use of String: \") \n",
        "print(set1) \n",
        "\n",
        "#Adding Elements\n",
        "set1.add(8) \n",
        "set1.add(9) \n",
        "set1.add((6,7)) \n",
        "print(\"\\nSet after Addition of Three elements: \") \n",
        "print(set1) \n",
        "\n",
        "# Addition of elements to the Set using Update function \n",
        "\n",
        "set1.update([10, 11]) \n",
        "print(\"\\nSet after Addition of elements using Update: \") \n",
        "print(set1) \n",
        "\n",
        "# Removing elements from Set \n",
        "# using Remove() method \n",
        "set1.remove(5) \n",
        "set1.remove(6) \n",
        "print(\"\\nSet after Removal of two elements: \") \n",
        "print(set1) \n",
        "\n",
        "# Removing elements from Set \n",
        "# using Discard() method \n",
        "set1.discard(8) \n",
        "set1.discard(9) \n",
        "print(\"\\nSet after Discarding two elements: \") \n",
        "print(set1) \n"
      ],
      "execution_count": 10,
      "outputs": [
        {
          "output_type": "stream",
          "text": [
            "\n",
            "Set with the use of String: \n",
            "{1, 2, 3, 4, 5, 6}\n",
            "\n",
            "Set after Addition of Three elements: \n",
            "{1, 2, 3, 4, 5, 6, (6, 7), 8, 9}\n",
            "\n",
            "Set after Addition of elements using Update: \n",
            "{1, 2, 3, 4, 5, 6, (6, 7), 8, 9, 10, 11}\n",
            "\n",
            "Set after Removal of two elements: \n",
            "{1, 2, 3, 4, (6, 7), 8, 9, 10, 11}\n",
            "\n",
            "Set after Discarding two elements: \n",
            "{1, 2, 3, 4, (6, 7), 10, 11}\n"
          ],
          "name": "stdout"
        }
      ]
    },
    {
      "cell_type": "code",
      "metadata": {
        "id": "b-4fb3lGof_1",
        "colab_type": "code",
        "colab": {}
      },
      "source": [
        ""
      ],
      "execution_count": null,
      "outputs": []
    }
  ]
}
