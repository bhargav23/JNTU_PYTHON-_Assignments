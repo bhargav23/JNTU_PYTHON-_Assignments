{
  "nbformat": 4,
  "nbformat_minor": 0,
  "metadata": {
    "colab": {
      "name": "JNTU_PYTHON_Assignment_5.ipynb",
      "provenance": [],
      "authorship_tag": "ABX9TyPKG1Xzc23f3CROshAP3kQ8",
      "include_colab_link": true
    },
    "kernelspec": {
      "name": "python3",
      "display_name": "Python 3"
    }
  },
  "cells": [
    {
      "cell_type": "markdown",
      "metadata": {
        "id": "view-in-github",
        "colab_type": "text"
      },
      "source": [
        "<a href=\"https://colab.research.google.com/github/bhargav23/JNTU_PYTHON_Assignments/blob/master/JNTU_PYTHON_Assignment_5.ipynb\" target=\"_parent\"><img src=\"https://colab.research.google.com/assets/colab-badge.svg\" alt=\"Open In Colab\"/></a>"
      ]
    },
    {
      "cell_type": "code",
      "metadata": {
        "id": "SoAbQhkZ6EXt",
        "colab_type": "code",
        "colab": {}
      },
      "source": [
        "!wget https://www.techworldguru.com/wp-content/uploads/2020/03/realestate.csv"
      ],
      "execution_count": null,
      "outputs": []
    },
    {
      "cell_type": "code",
      "metadata": {
        "id": "CV5tDfKp6h71",
        "colab_type": "code",
        "colab": {}
      },
      "source": [
        "!wget https://www.techworldguru.com/wp-content/uploads/2020/03/sales.csv"
      ],
      "execution_count": null,
      "outputs": []
    },
    {
      "cell_type": "code",
      "metadata": {
        "id": "0aROVSOB6q7n",
        "colab_type": "code",
        "colab": {}
      },
      "source": [
        "!wget https://www.techworldguru.com/wp-content/uploads/2020/05/IPL.csv"
      ],
      "execution_count": null,
      "outputs": []
    },
    {
      "cell_type": "code",
      "metadata": {
        "id": "c4tVVhuw6xRF",
        "colab_type": "code",
        "colab": {}
      },
      "source": [
        "#Write a Python program to read the file realestate.csv and display the file content line by line with proper error handling.\n",
        "import csv\n",
        "\n",
        "\n",
        "try:\n",
        "    filename = \"realestate.csv\"\n",
        "    with open(filename,\"r\") as fobj:\n",
        "    \n",
        "        reader = csv.reader(fobj,delimiter='|')\n",
        "        for line in reader:\n",
        "            print(line)\n",
        "except FileNotFoundError as err:\n",
        "    print(\"file doesn't exist\")\n",
        "except TypeError as err:\n",
        "    print(\"INvalid operation\")\n",
        "except KeyError as err:\n",
        "    print(\"Dictionary key doesn't exist\")\n",
        "except Exception as error:\n",
        "    print(\"System defined error :\", error)\n",
        "    print(\"Unknown error\")\n",
        "finally:\n",
        "    print(\"ENf of the file handling\")"
      ],
      "execution_count": null,
      "outputs": []
    },
    {
      "cell_type": "code",
      "metadata": {
        "id": "3Zl1-0Zp69Pm",
        "colab_type": "code",
        "colab": {
          "base_uri": "https://localhost:8080/",
          "height": 697
        },
        "outputId": "62513589-c833-4203-bffa-4e5eee935381"
      },
      "source": [
        "#Write a Python program to read realestate.csv and display the count of an individual city.\n",
        "import csv\n",
        "citylist = list()\n",
        "try:\n",
        "    filename = \"realestate.csv\"\n",
        "    with open(filename,\"r\") as fobj:\n",
        "        reader = csv.reader(fobj)\n",
        "\n",
        "        for line in reader:\n",
        "            citylist.append(line[1])\n",
        "        \n",
        "        cityset = list(set(citylist))\n",
        "        for city in cityset:\n",
        "          print(citylist.count(city))\n",
        "       \n",
        "    \n",
        "except FileNotFoundError as err:\n",
        "    print(\"file doesn't exist\")\n",
        "except Exception as err:\n",
        "    print(\"Unknown err :\",err)"
      ],
      "execution_count": 9,
      "outputs": [
        {
          "output_type": "stream",
          "text": [
            "3\n",
            "1\n",
            "1\n",
            "1\n",
            "9\n",
            "1\n",
            "1\n",
            "1\n",
            "20\n",
            "2\n",
            "10\n",
            "28\n",
            "35\n",
            "11\n",
            "439\n",
            "3\n",
            "1\n",
            "114\n",
            "3\n",
            "5\n",
            "2\n",
            "1\n",
            "1\n",
            "21\n",
            "17\n",
            "9\n",
            "48\n",
            "23\n",
            "72\n",
            "21\n",
            "13\n",
            "1\n",
            "4\n",
            "3\n",
            "1\n",
            "17\n",
            "4\n",
            "1\n",
            "5\n",
            "33\n"
          ],
          "name": "stdout"
        }
      ]
    },
    {
      "cell_type": "code",
      "metadata": {
        "id": "CJInpMRWCQS-",
        "colab_type": "code",
        "colab": {}
      },
      "source": [
        "#Write a Python program to read realestate.csv and display all the lines satisfying the below\n",
        "\n",
        "#– type should be residential\n",
        "\n",
        "#– price shouldbe greater than 1000000\n",
        "\n",
        "#– city should be either SACRAMENTO or RIO LINDA\n",
        "\n",
        "import csv\n",
        "citylist = list()\n",
        "try:\n",
        "    filename = \"realestate.csv\"\n",
        "    with open(filename,\"r\") as fobj:\n",
        "        reader = csv.reader(fobj)\n",
        "        # processing\n",
        "        for line in reader:\n",
        "            citylist.append(line)\n",
        "        citylist.pop(0)\n",
        "\n",
        "        for city in citylist:\n",
        "          if(city[7]=='Residential'):\n",
        "            if(int(city[9])>1000000):\n",
        "              if(city[1] == 'SACRAMENTO' or city[1] == 'RIO LINDA'):\n",
        "                print(city)\n",
        "        \n",
        "except FileNotFoundError as err:\n",
        "    print(\"file doesn't exist\")\n",
        "except Exception as err:\n",
        "    print(\"Unknown err :\",err)"
      ],
      "execution_count": 6,
      "outputs": []
    },
    {
      "cell_type": "code",
      "metadata": {
        "id": "jipuDlhgSErC",
        "colab_type": "code",
        "colab": {
          "base_uri": "https://localhost:8080/",
          "height": 102
        },
        "outputId": "d0e762e4-0fe7-4a27-ba41-2494f48bca4d"
      },
      "source": [
        "#Write a Python program to read sales.csv and display all the different(distinct) payment modes\n",
        "\n",
        "import csv\n",
        "saleslist = list()\n",
        "try:\n",
        "    filename = \"sales.csv\"\n",
        "    with open(filename,\"r\") as fobj:\n",
        "        reader = csv.reader(fobj)\n",
        "        for line in reader:\n",
        "            saleslist.append(line[3])\n",
        " \n",
        "        for sales in set(saleslist):\n",
        "            print(sales)\n",
        "\n",
        "except FileNotFoundError as err:\n",
        "    print(\"file doesn't exist\")\n",
        "except Exception as err:\n",
        "    print(\"Unknown err :\",err)"
      ],
      "execution_count": 7,
      "outputs": [
        {
          "output_type": "stream",
          "text": [
            "Mastercard\n",
            "Visa\n",
            "Payment_Type\n",
            "Diners\n",
            "Amex\n"
          ],
          "name": "stdout"
        }
      ]
    },
    {
      "cell_type": "code",
      "metadata": {
        "id": "vGVChvrway0n",
        "colab_type": "code",
        "colab": {}
      },
      "source": [
        ""
      ],
      "execution_count": 7,
      "outputs": []
    }
  ]
}