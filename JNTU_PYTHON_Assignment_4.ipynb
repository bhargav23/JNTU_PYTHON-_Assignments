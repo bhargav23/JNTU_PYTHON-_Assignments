{
  "nbformat": 4,
  "nbformat_minor": 0,
  "metadata": {
    "colab": {
      "name": "JNTU_PYTHON_Assignment_4.ipynb",
      "provenance": [],
      "authorship_tag": "ABX9TyOB/czd/YszkgrwR1YF9MKG",
      "include_colab_link": true
    },
    "kernelspec": {
      "name": "python3",
      "display_name": "Python 3"
    }
  },
  "cells": [
    {
      "cell_type": "markdown",
      "metadata": {
        "id": "view-in-github",
        "colab_type": "text"
      },
      "source": [
        "<a href=\"https://colab.research.google.com/github/bhargav23/JNTU_PYTHON_Assignments/blob/master/JNTU_PYTHON_Assignment_4.ipynb\" target=\"_parent\"><img src=\"https://colab.research.google.com/assets/colab-badge.svg\" alt=\"Open In Colab\"/></a>"
      ]
    },
    {
      "cell_type": "code",
      "metadata": {
        "id": "PCii44JJrhgQ",
        "colab_type": "code",
        "colab": {
          "base_uri": "https://localhost:8080/",
          "height": 34
        },
        "outputId": "d561386e-8886-4159-f4ec-873b9c23687f"
      },
      "source": [
        "#1)Write a Python program to count the number of characters (character frequency) in a string\n",
        "str = \"Sample Text\"\n",
        "dict = {}\n",
        "for n in str:\n",
        "    keys = dict.keys()\n",
        "    if n in keys:\n",
        "        dict[n] += 1\n",
        "    else:\n",
        "        dict[n] = 1\n",
        "\n",
        "print(dict)"
      ],
      "execution_count": 16,
      "outputs": [
        {
          "output_type": "stream",
          "text": [
            "{'S': 1, 'a': 1, 'm': 1, 'p': 1, 'l': 1, 'e': 2, ' ': 1, 'T': 1, 'x': 1, 't': 1}\n"
          ],
          "name": "stdout"
        }
      ]
    },
    {
      "cell_type": "code",
      "metadata": {
        "id": "hY6saAeMrriZ",
        "colab_type": "code",
        "colab": {
          "base_uri": "https://localhost:8080/",
          "height": 34
        },
        "outputId": "3d5d67e8-b2e2-433b-b8d5-fe57b95d7f3d"
      },
      "source": [
        "#2)Write a Python program to check a list is empty or not\n",
        "lst = []\n",
        "if len(lst) == 0:\n",
        "  print(\"List is empty\")\n",
        "else:\n",
        "  print(\"List is Not Empty\")"
      ],
      "execution_count": 17,
      "outputs": [
        {
          "output_type": "stream",
          "text": [
            "List is empty\n"
          ],
          "name": "stdout"
        }
      ]
    },
    {
      "cell_type": "code",
      "metadata": {
        "id": "jbrpVVwjstpC",
        "colab_type": "code",
        "colab": {
          "base_uri": "https://localhost:8080/",
          "height": 102
        },
        "outputId": "3a34e9cf-986d-4021-a85a-c7baeb6eaeb6"
      },
      "source": [
        "#3)write an conditional statement to find biggest number in 3 numbers.\n",
        "print('Enter three numbers:')\n",
        "a = input(\"Enter the value of A: \")\n",
        "b = input(\"Enter the value of B: \")\n",
        "c = input(\"Enter the value of C: \")\n",
        " \n",
        "if (a > b) and (a > c):\n",
        "   print(\"A is Big\")\n",
        "elif (b > c) :\n",
        "   print(\"B is Big\")\n",
        "else:\n",
        "   print(\"C is Big\")\n",
        " \n",
        "\n"
      ],
      "execution_count": 18,
      "outputs": [
        {
          "output_type": "stream",
          "text": [
            "Enter three numbers:\n",
            "Enter the value of A: 5\n",
            "Enter the value of B: 2\n",
            "Enter the value of C: 8\n",
            "C is Big\n"
          ],
          "name": "stdout"
        }
      ]
    },
    {
      "cell_type": "code",
      "metadata": {
        "id": "UOFJwDwIt3ur",
        "colab_type": "code",
        "colab": {
          "base_uri": "https://localhost:8080/",
          "height": 34
        },
        "outputId": "28f8cfc3-55e7-43ce-f3d8-62602e37f518"
      },
      "source": [
        "#4)Write a Python Program to display all the UNIQUE elements of the list.\n",
        "lst = [10, 20, 30, 40, 20, 50, 60, 40]\n",
        "lst = list(set(lst))\n",
        "print(lst)"
      ],
      "execution_count": 19,
      "outputs": [
        {
          "output_type": "stream",
          "text": [
            "[40, 10, 50, 20, 60, 30]\n"
          ],
          "name": "stdout"
        }
      ]
    },
    {
      "cell_type": "code",
      "metadata": {
        "id": "xC2s-bvTuye1",
        "colab_type": "code",
        "colab": {
          "base_uri": "https://localhost:8080/",
          "height": 51
        },
        "outputId": "1ce59881-57aa-4c49-84d4-487c4a1cfdfb"
      },
      "source": [
        "#5)Write a Python program to count the number of even and odd numbers from the provided list.\n",
        "\n",
        "alist = [ 56,34,23,56,4,43,6,7,5,34,5,7645,573,23,6,7,5,4,6,7,5634,3454,345,67,32,45]\n",
        "even = 0\n",
        "odd = 0\n",
        "for i in alist:\n",
        "  if i % 2 == 0:\n",
        "    even = even + 1\n",
        "  else:\n",
        "    odd = odd + 1\n",
        "print(\"Number of even numbers are = \",even)\n",
        "print(\"Number of odd numbers are = \",odd)\n"
      ],
      "execution_count": 20,
      "outputs": [
        {
          "output_type": "stream",
          "text": [
            "Number of even numbers are =  12\n",
            "Number of odd numbers are =  14\n"
          ],
          "name": "stdout"
        }
      ]
    },
    {
      "cell_type": "code",
      "metadata": {
        "id": "NoQfJeZUvrXT",
        "colab_type": "code",
        "colab": {
          "base_uri": "https://localhost:8080/",
          "height": 867
        },
        "outputId": "3a60e9a4-c4fb-41b0-e132-a6dd6c311e90"
      },
      "source": [
        "#6)Write a Python program to display all the numbers from 50 to 1\n",
        "i = 50\n",
        "while i > 0 :\n",
        "  print(i)\n",
        "  i=i-1\n"
      ],
      "execution_count": 21,
      "outputs": [
        {
          "output_type": "stream",
          "text": [
            "50\n",
            "49\n",
            "48\n",
            "47\n",
            "46\n",
            "45\n",
            "44\n",
            "43\n",
            "42\n",
            "41\n",
            "40\n",
            "39\n",
            "38\n",
            "37\n",
            "36\n",
            "35\n",
            "34\n",
            "33\n",
            "32\n",
            "31\n",
            "30\n",
            "29\n",
            "28\n",
            "27\n",
            "26\n",
            "25\n",
            "24\n",
            "23\n",
            "22\n",
            "21\n",
            "20\n",
            "19\n",
            "18\n",
            "17\n",
            "16\n",
            "15\n",
            "14\n",
            "13\n",
            "12\n",
            "11\n",
            "10\n",
            "9\n",
            "8\n",
            "7\n",
            "6\n",
            "5\n",
            "4\n",
            "3\n",
            "2\n",
            "1\n"
          ],
          "name": "stdout"
        }
      ]
    },
    {
      "cell_type": "code",
      "metadata": {
        "id": "YMRNg8KOwdtS",
        "colab_type": "code",
        "colab": {
          "base_uri": "https://localhost:8080/",
          "height": 102
        },
        "outputId": "0e646ac4-36f8-4dbc-a3c4-a48f6401f57c"
      },
      "source": [
        "#7) Write a Python program to display all the odd numbers from 20 to 10\n",
        "i = 20\n",
        "while i >= 10:\n",
        "  if i % 2 == 1:\n",
        "    print(i)\n",
        "  i = i -1"
      ],
      "execution_count": 22,
      "outputs": [
        {
          "output_type": "stream",
          "text": [
            "19\n",
            "17\n",
            "15\n",
            "13\n",
            "11\n"
          ],
          "name": "stdout"
        }
      ]
    },
    {
      "cell_type": "code",
      "metadata": {
        "id": "MGexwghlxFjD",
        "colab_type": "code",
        "colab": {}
      },
      "source": [
        ""
      ],
      "execution_count": 22,
      "outputs": []
    }
  ]
}